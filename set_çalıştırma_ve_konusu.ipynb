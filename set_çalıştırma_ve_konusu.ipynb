{
  "cells": [
    {
      "cell_type": "markdown",
      "metadata": {
        "id": "view-in-github",
        "colab_type": "text"
      },
      "source": [
        "<a href=\"https://colab.research.google.com/github/BehorseY/Setler/blob/main/set_%C3%A7al%C4%B1%C5%9Ft%C4%B1rma_ve_konusu.ipynb\" target=\"_parent\"><img src=\"https://colab.research.google.com/assets/colab-badge.svg\" alt=\"Open In Colab\"/></a>"
      ]
    },
    {
      "cell_type": "code",
      "source": [
        "setim=()\n",
        "setim={1,2,3,4,5,6}\n",
        "type(setim)"
      ],
      "metadata": {
        "id": "3jUflf4cNkDm",
        "outputId": "5e2d9762-befc-41ec-f06c-40c92d862e48",
        "colab": {
          "base_uri": "https://localhost:8080/"
        }
      },
      "execution_count": null,
      "outputs": [
        {
          "output_type": "execute_result",
          "data": {
            "text/plain": [
              "set"
            ]
          },
          "metadata": {},
          "execution_count": 8
        }
      ]
    },
    {
      "cell_type": "code",
      "source": [
        "setim={1,2,3,4,5}\n",
        "print(3 in setim)\n",
        "print(7 in setim)"
      ],
      "metadata": {
        "id": "qCJzd4CQRVI2",
        "outputId": "9be286ad-b6f7-45f2-80d5-e8b1a49d83db",
        "colab": {
          "base_uri": "https://localhost:8080/"
        }
      },
      "execution_count": null,
      "outputs": [
        {
          "output_type": "stream",
          "name": "stdout",
          "text": [
            "True\n",
            "False\n"
          ]
        }
      ]
    },
    {
      "cell_type": "code",
      "source": [
        "myset={1,2,3}\n",
        "myset.add(4)\n",
        "print(myset)"
      ],
      "metadata": {
        "id": "Sbz3HVROSNGV",
        "outputId": "1aca01b0-e63b-448f-8e99-fed279dd6a20",
        "colab": {
          "base_uri": "https://localhost:8080/"
        }
      },
      "execution_count": null,
      "outputs": [
        {
          "output_type": "stream",
          "name": "stdout",
          "text": [
            "{1, 2, 3, 4}\n"
          ]
        }
      ]
    },
    {
      "cell_type": "code",
      "source": [
        "miset={1,2,3}\n",
        "miset.remove(2)\n",
        "print(miset)"
      ],
      "metadata": {
        "id": "Iq8NhSXDS28l",
        "outputId": "8135da57-0331-42c4-af31-a500794ffe3a",
        "colab": {
          "base_uri": "https://localhost:8080/"
        }
      },
      "execution_count": null,
      "outputs": [
        {
          "output_type": "stream",
          "name": "stdout",
          "text": [
            "{1, 3}\n"
          ]
        }
      ]
    },
    {
      "cell_type": "code",
      "source": [
        "miset.add(4)\n",
        "print(miset)\n",
        "miset.discard(3)\n",
        "print(miset)\n",
        "miset.add(3)\n",
        "print(miset)\n",
        "miset.discard(3)\n",
        "print(miset)"
      ],
      "metadata": {
        "id": "fHbBe1Z6TZtc",
        "outputId": "f86a60d1-79ab-46dc-fe6e-4cce4d5b80d5",
        "colab": {
          "base_uri": "https://localhost:8080/"
        }
      },
      "execution_count": null,
      "outputs": [
        {
          "output_type": "stream",
          "name": "stdout",
          "text": [
            "{1, 4}\n",
            "{1, 4}\n",
            "{1, 3, 4}\n",
            "{1, 4}\n"
          ]
        }
      ]
    },
    {
      "cell_type": "code",
      "source": [
        "set1={1,2,3}\n",
        "set2={3,5,6}\n",
        "set3=set1.union(set2)\n",
        "print(set3)"
      ],
      "metadata": {
        "id": "9EQhSf4aTto0",
        "outputId": "88a20c50-c939-4fec-d242-aa0b79585450",
        "colab": {
          "base_uri": "https://localhost:8080/"
        }
      },
      "execution_count": null,
      "outputs": [
        {
          "output_type": "stream",
          "name": "stdout",
          "text": [
            "{1, 2, 3, 5, 6}\n"
          ]
        }
      ]
    },
    {
      "cell_type": "code",
      "source": [
        "print(set1.intersection(set2))\n",
        "print(set1.difference(set2))\n"
      ],
      "metadata": {
        "id": "EpyhgzfAUL4k",
        "outputId": "c31228a3-cf0b-47b5-833c-1ffb00f5ca00",
        "colab": {
          "base_uri": "https://localhost:8080/"
        }
      },
      "execution_count": null,
      "outputs": [
        {
          "output_type": "stream",
          "name": "stdout",
          "text": [
            "{3}\n",
            "{1, 2}\n"
          ]
        }
      ]
    },
    {
      "cell_type": "code",
      "source": [
        "orgset={1,2,3}\n",
        "copyyy=orgset.copy()\n",
        "print(copyyy)"
      ],
      "metadata": {
        "id": "7ZxEJmziUjWs",
        "colab": {
          "base_uri": "https://localhost:8080/"
        },
        "outputId": "0f7e7d54-0855-4bdf-f27e-27546926991f"
      },
      "execution_count": null,
      "outputs": [
        {
          "output_type": "stream",
          "name": "stdout",
          "text": [
            "{1, 2, 3}\n"
          ]
        }
      ]
    },
    {
      "cell_type": "code",
      "source": [
        "myset={1,2,3}\n",
        "myset.clear()\n",
        "print(myset)"
      ],
      "metadata": {
        "colab": {
          "base_uri": "https://localhost:8080/"
        },
        "id": "a6CqgrXIVNjN",
        "outputId": "020db152-1693-40b8-a4b3-eb0139e44124"
      },
      "execution_count": null,
      "outputs": [
        {
          "output_type": "stream",
          "name": "stdout",
          "text": [
            "set()\n"
          ]
        }
      ]
    },
    {
      "cell_type": "code",
      "source": [
        "myset={1,2,3}\n",
        "print(len(myset))"
      ],
      "metadata": {
        "colab": {
          "base_uri": "https://localhost:8080/"
        },
        "id": "0tqgK2r0Vmcs",
        "outputId": "4220a177-2fb6-45d4-9009-bbbbc2473284"
      },
      "execution_count": null,
      "outputs": [
        {
          "output_type": "stream",
          "name": "stdout",
          "text": [
            "3\n"
          ]
        }
      ]
    },
    {
      "cell_type": "code",
      "source": [
        "list1=[1,2,3,4,5]\n",
        "list2=[4,5,6,7,8]\n",
        "set1=set(list1)\n",
        "set2=set(list2)\n",
        "ortak=set1.intersection(set2)\n",
        "fark=set1.difference(set2)\n",
        "print(f\"ortak olan {ortak}\")\n",
        "print(f\"fark {fark}\")"
      ],
      "metadata": {
        "colab": {
          "base_uri": "https://localhost:8080/"
        },
        "id": "MXLVWYkuVsUc",
        "outputId": "ed85bb49-e9e6-4bbd-90d5-0e43389200e8"
      },
      "execution_count": null,
      "outputs": [
        {
          "output_type": "stream",
          "name": "stdout",
          "text": [
            "ortak olan {4, 5}\n",
            "fark {1, 2, 3}\n"
          ]
        }
      ]
    },
    {
      "cell_type": "code",
      "source": [
        "setbos=()\n",
        "setbos=set()\n",
        "setbos.add(4)\n",
        "print(setbos)"
      ],
      "metadata": {
        "colab": {
          "base_uri": "https://localhost:8080/"
        },
        "id": "8qivU_JUWL-t",
        "outputId": "7425ae07-6c96-4df1-a488-b6a33c098cef"
      },
      "execution_count": null,
      "outputs": [
        {
          "output_type": "stream",
          "name": "stdout",
          "text": [
            "{4}\n"
          ]
        }
      ]
    },
    {
      "cell_type": "code",
      "source": [
        "meyveler={\"elma\",\"armut\",\"muz\"}\n",
        "meyveler.remove(\"muz\")\n",
        "print(\"muz\" in meyveler)\n",
        "print(meyveler)"
      ],
      "metadata": {
        "colab": {
          "base_uri": "https://localhost:8080/"
        },
        "id": "gY-wapPLXOtM",
        "outputId": "9661716c-a953-4e3d-d9fd-c2826e489da3"
      },
      "execution_count": null,
      "outputs": [
        {
          "output_type": "stream",
          "name": "stdout",
          "text": [
            "False\n",
            "{'elma', 'armut'}\n"
          ]
        }
      ]
    },
    {
      "cell_type": "code",
      "source": [
        "sett1={1,2,3,4}\n",
        "sett2={3,4,5,6}\n",
        "kesisim=sett1.intersection(sett2)\n",
        "birlesim=sett1.union(sett2)\n",
        "print(f\"kesisimleri = {kesisim}\")\n",
        "print(f\"birlesimleri = {birlesim}\")"
      ],
      "metadata": {
        "colab": {
          "base_uri": "https://localhost:8080/"
        },
        "id": "Bnv_t1WsYObs",
        "outputId": "007bc804-5720-450a-b521-814d5a577e27"
      },
      "execution_count": null,
      "outputs": [
        {
          "output_type": "stream",
          "name": "stdout",
          "text": [
            "kesisimleri = {3, 4}\n",
            "birlesimleri = {1, 2, 3, 4, 5, 6}\n"
          ]
        }
      ]
    },
    {
      "cell_type": "code",
      "source": [
        "fark=sett1.difference(sett2)\n",
        "simetrikfark=sett1.symmetric_difference(sett2)\n",
        "print(f\"simetrik farkları = {simetrikfark}\")\n",
        "print(f\"farkları = {fark}\")\n"
      ],
      "metadata": {
        "colab": {
          "base_uri": "https://localhost:8080/"
        },
        "id": "h3MEGmXqZK_k",
        "outputId": "0406cb61-27bf-4841-a8d9-ba1484632dbd"
      },
      "execution_count": null,
      "outputs": [
        {
          "output_type": "stream",
          "name": "stdout",
          "text": [
            "simetrik farkları = {1, 2, 5, 6}\n",
            "farkları = {1, 2}\n"
          ]
        }
      ]
    },
    {
      "cell_type": "code",
      "source": [
        "sayilarlistesi=[1,2,2,3,4,4,5]\n",
        "sayilarset=set(sayilarlistesi)\n",
        "print(sayilarset)"
      ],
      "metadata": {
        "colab": {
          "base_uri": "https://localhost:8080/"
        },
        "id": "s-vUycrvaFtz",
        "outputId": "1e8623a4-5dbb-47e1-a6a8-34c2eb9e7d01"
      },
      "execution_count": null,
      "outputs": [
        {
          "output_type": "stream",
          "name": "stdout",
          "text": [
            "{1, 2, 3, 4, 5}\n"
          ]
        }
      ]
    },
    {
      "cell_type": "code",
      "source": [
        "sayılarset={1,2,3,4,5,6,7,8,9,10}\n",
        "sayılarlist=list(sayılarset)\n",
        "\n",
        "new_list = []\n",
        "\n",
        "for i in range(len(sayılarlist)):\n",
        "\n",
        "  if i % 2 != 0:\n",
        "    new_list.(sayılarlist[i])\n",
        "\n",
        "\n",
        "sayılarlist = new_list\n",
        "print(sayılarlist)"
      ],
      "metadata": {
        "colab": {
          "base_uri": "https://localhost:8080/",
          "height": 211
        },
        "id": "QsLMLIWvdtSa",
        "outputId": "76baad4b-babb-49b2-cda7-b3e93ad02cc1"
      },
      "execution_count": null,
      "outputs": [
        {
          "output_type": "error",
          "ename": "IndexError",
          "evalue": "pop from empty list",
          "traceback": [
            "\u001b[0;31m---------------------------------------------------------------------------\u001b[0m",
            "\u001b[0;31mIndexError\u001b[0m                                Traceback (most recent call last)",
            "\u001b[0;32m<ipython-input-39-3a4210bd31d3>\u001b[0m in \u001b[0;36m<cell line: 6>\u001b[0;34m()\u001b[0m\n\u001b[1;32m      7\u001b[0m \u001b[0;34m\u001b[0m\u001b[0m\n\u001b[1;32m      8\u001b[0m   \u001b[0;32mif\u001b[0m \u001b[0mi\u001b[0m \u001b[0;34m%\u001b[0m \u001b[0;36m2\u001b[0m \u001b[0;34m!=\u001b[0m \u001b[0;36m0\u001b[0m\u001b[0;34m:\u001b[0m\u001b[0;34m\u001b[0m\u001b[0;34m\u001b[0m\u001b[0m\n\u001b[0;32m----> 9\u001b[0;31m     \u001b[0mnew_list\u001b[0m\u001b[0;34m.\u001b[0m\u001b[0mpop\u001b[0m\u001b[0;34m(\u001b[0m\u001b[0msayılarlist\u001b[0m\u001b[0;34m[\u001b[0m\u001b[0mi\u001b[0m\u001b[0;34m]\u001b[0m\u001b[0;34m)\u001b[0m\u001b[0;34m\u001b[0m\u001b[0;34m\u001b[0m\u001b[0m\n\u001b[0m\u001b[1;32m     10\u001b[0m \u001b[0;34m\u001b[0m\u001b[0m\n\u001b[1;32m     11\u001b[0m \u001b[0;34m\u001b[0m\u001b[0m\n",
            "\u001b[0;31mIndexError\u001b[0m: pop from empty list"
          ]
        }
      ]
    },
    {
      "cell_type": "code",
      "source": [
        "sayılarset={1,2,3,4,5,6,7,8,9,10,11,12,13,14,15,16,17,18,19,20}\n",
        "sayılarlist=list(sayılarset)\n",
        "\n",
        "liste2=[]\n",
        "liste1=[]\n",
        "for i in range(len(sayılarlist)):\n",
        "  if not i%2==0:\n",
        "    liste2.append(sayılarlist[i])\n",
        "  else:\n",
        "    liste1.append(sayılarlist[i])\n",
        "\n",
        "\n",
        "\n",
        "print(f\"çift olanlar: {set(liste2)}\")\n",
        "print(f\"tek olanlar: {set(liste1)}\")"
      ],
      "metadata": {
        "colab": {
          "base_uri": "https://localhost:8080/"
        },
        "id": "UfvIJiqaeFjS",
        "outputId": "c0672ea6-8705-46b3-dac1-536b31d3a709"
      },
      "execution_count": null,
      "outputs": [
        {
          "output_type": "stream",
          "name": "stdout",
          "text": [
            "çift olanlar: {2, 4, 6, 8, 10, 12, 14, 16, 18, 20}\n",
            "tek olanlar: {1, 3, 5, 7, 9, 11, 13, 15, 17, 19}\n"
          ]
        }
      ]
    },
    {
      "cell_type": "code",
      "source": [
        "paragraf=[\"python\",\"ile\",\"setler\",\"konusu\",\"oldukça\",\"ilginçtir.\",\"setler\",\"eşsiz\",\"elemanlar\",\"tutar\"]\n",
        "paragrafset=set(paragraf)\n",
        "kelimesayısı=len(paragrafset)\n",
        "print(f\"kelime sayısı = {kelimesayısı}\")\n",
        "print(f\"paragraf = {paragraf}\")\n",
        "print(f\"paragraftaki eşsiz kelimeler = {paragrafset}\")\n"
      ],
      "metadata": {
        "colab": {
          "base_uri": "https://localhost:8080/"
        },
        "id": "06ugJCTHe4a5",
        "outputId": "d95bffff-ef23-453b-ee10-1a82e80b772b"
      },
      "execution_count": null,
      "outputs": [
        {
          "output_type": "stream",
          "name": "stdout",
          "text": [
            "kelime sayısı = 9\n",
            "paragraf = ['python', 'ile', 'setler', 'konusu', 'oldukça', 'ilginçtir.', 'setler', 'eşsiz', 'elemanlar', 'tutar']\n",
            "paragraftaki eşsiz kelimeler = {'python', 'eşsiz', 'setler', 'oldukça', 'tutar', 'elemanlar', 'ilginçtir.', 'ile', 'konusu'}\n"
          ]
        }
      ]
    },
    {
      "cell_type": "code",
      "source": [
        "ahmetark={\"ali\",\"ayşe\",\"mehmet\",\"deniz\"}\n",
        "ayseark={\"mehmet\",\"deniz\",\"fatma\",\"ali\"}\n",
        "ortak=ahmetark.intersection(ayseark)\n",
        "print(f\"ortak kişiler = {ortak}\")\n"
      ],
      "metadata": {
        "colab": {
          "base_uri": "https://localhost:8080/"
        },
        "id": "gIKYSjlOjr6w",
        "outputId": "d0d44e81-9a3a-4235-8365-cb8e9eecc238"
      },
      "execution_count": null,
      "outputs": [
        {
          "output_type": "stream",
          "name": "stdout",
          "text": [
            "ortak kişiler = {'mehmet', 'deniz', 'ali'}\n"
          ]
        }
      ]
    },
    {
      "cell_type": "code",
      "source": [
        "sayılarset={1,2,3,4,5,6,7,8,9,10}\n",
        "sayılarlist=list(sayılarset)\n",
        "\n",
        "list1=[]\n",
        "list2=[]\n",
        "for i in range(len(sayılarlist)):\n",
        "  if not i%2==0:\n",
        "    list2.append(sayılarlist[i])\n",
        "  else:\n",
        "    list1.append(sayılarlist[i])\n",
        "\n",
        "\n",
        "\n",
        "print(f\"çift olanlar: {set(list2)}\")\n",
        "print(f\"tek olanlar: {set(list1)}\")"
      ],
      "metadata": {
        "colab": {
          "base_uri": "https://localhost:8080/"
        },
        "id": "d74EJ45eljTX",
        "outputId": "2e928064-48e6-4bc9-f05a-b8daa8ecd8fc"
      },
      "execution_count": null,
      "outputs": [
        {
          "output_type": "stream",
          "name": "stdout",
          "text": [
            "çift olanlar: {2, 4, 6, 8, 10}\n",
            "tek olanlar: {1, 3, 5, 7, 9}\n"
          ]
        }
      ]
    },
    {
      "cell_type": "code",
      "source": [
        "sınıflistesi={\"ahmet\",\"ayşe\",\"mehmet\",\"fatma\",\"deniz\"}\n",
        "yenikayıt={\"mehmet\",\"fatma\",\"ali\"}\n",
        "sınıflistesi.update(yenikayıt)\n",
        "print(sınıflistesi)\n",
        "\n"
      ],
      "metadata": {
        "colab": {
          "base_uri": "https://localhost:8080/"
        },
        "id": "w6uA_JYSmUnn",
        "outputId": "edec4525-c833-45b9-ebc9-271c81c17ab1"
      },
      "execution_count": null,
      "outputs": [
        {
          "output_type": "stream",
          "name": "stdout",
          "text": [
            "{'ayşe', 'deniz', 'fatma', 'mehmet', 'ahmet', 'ali'}\n"
          ]
        }
      ]
    },
    {
      "cell_type": "code",
      "source": [
        "giyim={\"pantolon\",\"gömlek\",\"ceket\",\"şapka\"}\n",
        "aks={\"şapka\",\"atkı\",\"gözlük\",\"ceket\"}\n",
        "aynıurun=giyim.intersection(aks)\n",
        "print(giyim)\n",
        "print(aks)\n",
        "print(f\"aynı olan ürünler: {aynıurun}\")"
      ],
      "metadata": {
        "colab": {
          "base_uri": "https://localhost:8080/"
        },
        "id": "aeTQjqXfoHS_",
        "outputId": "9392e683-5499-411f-fdb5-17b4a9509e1c"
      },
      "execution_count": null,
      "outputs": [
        {
          "output_type": "stream",
          "name": "stdout",
          "text": [
            "{'gömlek', 'şapka', 'pantolon', 'ceket'}\n",
            "{'gözlük', 'atkı', 'ceket', 'şapka'}\n",
            "aynı olan ürünler: {'şapka', 'ceket'}\n"
          ]
        }
      ]
    },
    {
      "cell_type": "code",
      "source": [
        "sınav1={\"ahmet\":80,\"ayşe\":75,\"mehmet\":60,\"deniz\":85}\n",
        "sınav2={\"fatma\":65,\"ali\":85,\"mehmet\":90,\"deniz\":70}\n",
        "\n",
        "sınav170ustu=[isim for isim, notu in sınav1.items() if notu >= 70]\n",
        "sınav270ustu=[isim for isim, notu in sınav2.items() if notu >= 70]\n",
        "ortak=sınav170ustu+sınav270ustu\n",
        "\n",
        "print(f\"70 üstü not alanlar : {set(ortak)}\")\n"
      ],
      "metadata": {
        "colab": {
          "base_uri": "https://localhost:8080/"
        },
        "id": "Mbh7xRx5ptwG",
        "outputId": "908805dd-4509-4332-8138-52a22ad0cd93"
      },
      "execution_count": null,
      "outputs": [
        {
          "output_type": "stream",
          "name": "stdout",
          "text": [
            "70 üstü not alanlar : {'ali', 'ayşe', 'deniz', 'mehmet', 'ahmet'}\n"
          ]
        }
      ]
    },
    {
      "cell_type": "code",
      "source": [
        "sınav1={\"ahmet\":80,\"ayşe\":75,\"mehmet\":60,\"deniz\":85}\n",
        "sınav2={\"fatma\":65,\"ali\":85,\"mehmet\":90,\"deniz\":70}\n",
        "gecen=set()\n",
        "for ogrenci,not1 in sınav1.items():\n",
        "  if ogrenci in sınav2 and sınav2[ogrenci]>=70 and not1 >=70:\n",
        "    gecen.add(ogrenci)\n",
        "print(gecen)"
      ],
      "metadata": {
        "colab": {
          "base_uri": "https://localhost:8080/"
        },
        "id": "vytcdusWrs6W",
        "outputId": "10d9befa-11ad-413d-994b-60b863b5a0e7"
      },
      "execution_count": null,
      "outputs": [
        {
          "output_type": "stream",
          "name": "stdout",
          "text": [
            "{'deniz'}\n"
          ]
        }
      ]
    },
    {
      "cell_type": "code",
      "source": [
        "kayıtlı={\"ahmet\",\"ayşe\",\"mehmet\",\"deniz\",\"ali\"}\n",
        "mezun={\"mehmet\",\"deniz\",\"fatma\"}\n",
        "mezunolmayan=kayıtlı.difference(mezun)\n",
        "mezunolan=kayıtlı.intersection(mezun)\n",
        "yenimezun={\"fatma\"}\n",
        "guncelmezunlar = mezun.union(yenimezun)\n",
        "print(f\"mezun olmayanlar: {mezunolmayan}\")\n",
        "print(f\"mezun olanlar: {guncelmezunlar}\")\n"
      ],
      "metadata": {
        "colab": {
          "base_uri": "https://localhost:8080/"
        },
        "id": "zUm2A0sHtXtF",
        "outputId": "04b6664f-4287-4fad-d88e-524b0e8e9ee5"
      },
      "execution_count": null,
      "outputs": [
        {
          "output_type": "stream",
          "name": "stdout",
          "text": [
            "mezun olmayanlar: {'ayşe', 'ali', 'ahmet'}\n",
            "mezun olanlar: {'fatma', 'deniz', 'mehmet'}\n"
          ]
        }
      ]
    },
    {
      "cell_type": "code",
      "source": [],
      "metadata": {
        "id": "jcoeacY8vnFl"
      },
      "execution_count": null,
      "outputs": []
    }
  ],
  "metadata": {
    "colab": {
      "provenance": [],
      "include_colab_link": true
    },
    "kernelspec": {
      "display_name": "Python 3",
      "name": "python3"
    }
  },
  "nbformat": 4,
  "nbformat_minor": 0
}